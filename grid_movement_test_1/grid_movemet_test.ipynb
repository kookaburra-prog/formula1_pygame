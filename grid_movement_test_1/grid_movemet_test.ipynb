{
 "cells": [
  {
   "cell_type": "code",
   "execution_count": null,
   "id": "eb627fe9",
   "metadata": {},
   "outputs": [
    {
     "name": "stdout",
     "output_type": "stream",
     "text": [
      "hello\n"
     ]
    }
   ],
   "source": [
    "import pygame\n",
    "\n",
    "# Инициализация Pygame\n",
    "pygame.init()\n",
    "\n",
    "# Создаем окно\n",
    "screen = pygame.display.set_mode((800, 600))\n",
    "pygame.display.set_caption(\"Задание 1.2: Круг в центре\")\n",
    "\n",
    "# Цвета\n",
    "WHITE = (255, 255, 255)\n",
    "BLUE = (0, 100, 255)\n",
    "\n",
    "# Главный игровой цикл\n",
    "running = True\n",
    "while running:\n",
    "    # Обработка событий\n",
    "    for event in pygame.event.get():\n",
    "        if event.type == pygame.QUIT:\n",
    "            running = False\n",
    "    \n",
    "    # Заливаем экран белым цветом\n",
    "    screen.fill(WHITE)\n",
    "    \n",
    "    # Рисуем синий круг в центре экрана\n",
    "    # pygame.draw.circle(surface, color, center, radius)\n",
    "    pygame.draw.\n",
    "    \n",
    "    # Обновляем экран\n",
    "    pygame.display.flip()\n",
    "\n",
    "# Завершение\n",
    "pygame.quit()"
   ]
  }
 ],
 "metadata": {
  "kernelspec": {
   "display_name": "Python 3",
   "language": "python",
   "name": "python3"
  },
  "language_info": {
   "codemirror_mode": {
    "name": "ipython",
    "version": 3
   },
   "file_extension": ".py",
   "mimetype": "text/x-python",
   "name": "python",
   "nbconvert_exporter": "python",
   "pygments_lexer": "ipython3",
   "version": "3.8.10"
  }
 },
 "nbformat": 4,
 "nbformat_minor": 5
}
